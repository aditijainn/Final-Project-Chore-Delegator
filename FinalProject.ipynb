{
 "cells": [
  {
   "cell_type": "markdown",
   "id": "fe8f755a",
   "metadata": {},
   "source": [
    "# Final Project: Chore Delegator"
   ]
  },
  {
   "cell_type": "markdown",
   "id": "f2ee25ba",
   "metadata": {},
   "source": [
    "### Project Description\n",
    "This project aims to divide a list of weekly chores as fairly and evenly as possible between a list of people who they are shared between and the days of the week. \n",
    "\n",
    " The program will output a DataFrame, as seen below, of the chores assigned to each day as seen by row and the chores assigned to each person as seen by column. \n",
    "\n",
    "This was an extremely useful project to make as me and my housemates have been seeking a way to divide house chores fairly and evenly throughout the week, so I'm excited that my project such direct real life applications.\n",
    "\n",
    "### Approach\n",
    "1. A list of chores with the chore name, estimated duration of the chore, and if any, a specific day the chore needs to be done is inputted. A seperate list of the people the chores need to be distrbuted among is inputted.\n",
    "\n",
    "\n",
    "2. The list of chores is ordered from most to least time taken. The chores in the ordered chore list are assigned people in order to ensure the chores are as evenly distributed as possible. To ensure it is fair, the order the people are assigned to the chores is randomised every round that everyone is assigned a chore. \n",
    "    * For example, each person is assigned a chore starting with the chore that takes the most time to do. After each person is assigned the first chore, the order of the people being assigned chores is randomised to ensure the first person isn't always getting the chore that requires the most time to be done.\n",
    "    \n",
    "    \n",
    "3. After every chore is assigned a person, the chores are divided into the days of the week. This begins with the chores that had specified a day they needed to be done, being assigned to that day. The remainder of the chores are then sorted in order of most to least time taken. In this order, each chore is added to the day of the week that has the least amount of work at the time of adding the chore. This ensures that the time taken to do the chores are as evenly distributed throughout the week as possible.\n",
    "\n",
    "\n",
    "4. So far each person is assigned chores fairly and equally and we have an list representing the week's chores, with each element being a list of the chores of the day. This list of the weeks chores are divided into a dictionary with the key people each person and the value corresponding to each key being an array with each element representing a list chores assigned to the person for that day. \n",
    "    * For further clarification, the dictionary should have a key for each person and each value should be a list of 7 elements representing each day. Each of the 7 elements are lists of chores assigned to that person for that day.\n",
    "    \n",
    "\n",
    "5. The last part of this approach involved turning the dictionary we created into a DataFrame table with chores corresponding to each person as columns and the days as rows. This is demonstrated below.\n",
    "\n",
    "### Code Demonstration"
   ]
  },
  {
   "cell_type": "code",
   "execution_count": 3,
   "id": "4db15809",
   "metadata": {},
   "outputs": [
    {
     "data": {
      "text/html": [
       "<div>\n",
       "<style scoped>\n",
       "    .dataframe tbody tr th:only-of-type {\n",
       "        vertical-align: middle;\n",
       "    }\n",
       "\n",
       "    .dataframe tbody tr th {\n",
       "        vertical-align: top;\n",
       "    }\n",
       "\n",
       "    .dataframe thead th {\n",
       "        text-align: right;\n",
       "    }\n",
       "</style>\n",
       "<table border=\"1\" class=\"dataframe\">\n",
       "  <thead>\n",
       "    <tr style=\"text-align: right;\">\n",
       "      <th></th>\n",
       "      <th>Aditi</th>\n",
       "      <th>Becca</th>\n",
       "      <th>Sydney</th>\n",
       "      <th>Zohar</th>\n",
       "    </tr>\n",
       "  </thead>\n",
       "  <tbody>\n",
       "    <tr>\n",
       "      <th>Mon</th>\n",
       "      <td>Bleach sink</td>\n",
       "      <td></td>\n",
       "      <td></td>\n",
       "      <td>Vacuum</td>\n",
       "    </tr>\n",
       "    <tr>\n",
       "      <th>Tue</th>\n",
       "      <td></td>\n",
       "      <td>Cook</td>\n",
       "      <td></td>\n",
       "      <td></td>\n",
       "    </tr>\n",
       "    <tr>\n",
       "      <th>Wed</th>\n",
       "      <td>Vacuum</td>\n",
       "      <td>Laundry</td>\n",
       "      <td></td>\n",
       "      <td></td>\n",
       "    </tr>\n",
       "    <tr>\n",
       "      <th>Thur</th>\n",
       "      <td></td>\n",
       "      <td>Scrub sink</td>\n",
       "      <td>Clean bathtub</td>\n",
       "      <td></td>\n",
       "    </tr>\n",
       "    <tr>\n",
       "      <th>Fri</th>\n",
       "      <td></td>\n",
       "      <td></td>\n",
       "      <td>Take out trash</td>\n",
       "      <td>Mop</td>\n",
       "    </tr>\n",
       "    <tr>\n",
       "      <th>Sat</th>\n",
       "      <td></td>\n",
       "      <td></td>\n",
       "      <td>Mop</td>\n",
       "      <td>Wash toilet</td>\n",
       "    </tr>\n",
       "    <tr>\n",
       "      <th>Sun</th>\n",
       "      <td>Wash Dishes</td>\n",
       "      <td></td>\n",
       "      <td></td>\n",
       "      <td></td>\n",
       "    </tr>\n",
       "  </tbody>\n",
       "</table>\n",
       "</div>"
      ],
      "text/plain": [
       "            Aditi       Becca          Sydney        Zohar\n",
       "Mon   Bleach sink                                   Vacuum\n",
       "Tue                      Cook                             \n",
       "Wed        Vacuum     Laundry                             \n",
       "Thur               Scrub sink   Clean bathtub             \n",
       "Fri                            Take out trash          Mop\n",
       "Sat                                       Mop  Wash toilet\n",
       "Sun   Wash Dishes                                         "
      ]
     },
     "execution_count": 3,
     "metadata": {},
     "output_type": "execute_result"
    }
   ],
   "source": [
    "from my_module import functions as c\n",
    "chorelist = [c.Chore('Scrub sink', 15, None), c.Chore('Cook', 30, 'Tuesday'), \n",
    "             c.Chore('Wash Dishes', 25, None), c.Chore('Vacuum', 15, None), \n",
    "             c.Chore('Wash toilet', 20, None), c.Chore('Vacuum', 15, None), \n",
    "             c.Chore('Clean bathtub', 20, None), c.Chore('Laundry', 20, None), \n",
    "             c.Chore('Bleach sink', 20, None), c.Chore('Mop', 20, None), \n",
    "             c.Chore('Take out trash', 10, 'Friday'), c.Chore('Mop', 20, None)]\n",
    "people = [\"Aditi\", \"Sydney\", \"Becca\", \"Zohar\"]\n",
    "c.chore_delegator(chorelist, people)"
   ]
  },
  {
   "cell_type": "markdown",
   "id": "edb5b290",
   "metadata": {},
   "source": [
    "When the duration of each chore is added up by column, it is as equal as possible in every column showing that the chores are distributed as fairly and evenly as possible. When run again, the table of chores will always change as the chores are assigned at random to some extent to ensure fairness.\n",
    "\n",
    "Furthermore the chores that were assigned specific days, for example 'Cook' was assigned to Tuesday and 'Take out trash' to Friday, will always be in their corresponding day's rows no matter who the chore is assigned to. The rest of the chores are as evenly distributed among the days of the week as possible. \n",
    "\n",
    "Below is my test file running and passing the tests I created."
   ]
  },
  {
   "cell_type": "code",
   "execution_count": 4,
   "id": "c1d29bca",
   "metadata": {},
   "outputs": [
    {
     "name": "stdout",
     "output_type": "stream",
     "text": [
      "\u001b[1m============================= test session starts ==============================\u001b[0m\n",
      "platform linux -- Python 3.9.5, pytest-7.2.0, pluggy-1.0.0\n",
      "rootdir: /home/adj003/Final_Project_COGS18_Fa22\n",
      "plugins: anyio-3.2.1\n",
      "collected 4 items                                                              \u001b[0m\u001b[1m\n",
      "\n",
      "my_module/test_functions.py \u001b[32m.\u001b[0m\u001b[32m.\u001b[0m\u001b[32m.\u001b[0m\u001b[32m.\u001b[0m\u001b[32m                                         [100%]\u001b[0m\n",
      "\n",
      "\u001b[32m============================== \u001b[32m\u001b[1m4 passed\u001b[0m\u001b[32m in 0.88s\u001b[0m\u001b[32m ===============================\u001b[0m\n"
     ]
    }
   ],
   "source": [
    "!pytest my_module/test_functions.py"
   ]
  },
  {
   "cell_type": "markdown",
   "id": "0bf5b635",
   "metadata": {},
   "source": [
    "### Extra Credit Opportunity\n",
    "My programming background prior to taking this course was in Java, however I've never programmed in Python before this course. I believe my work went beyond the basic requirements of this project as I created 7 original functions when the requirement was 3. Furthermore, my approach to fairly and evenly distribute chores was challenging to come up with and code. \n",
    "Here are some things I learnt beyond the scope of the course:\n",
    "* using the iterator tool cycle that keeps looping a list in the zip function until the other list loops once, \n",
    "* create 3D arrays while specifiying the length of each dimension\n",
    "* sorting a 3D array based on an object's attribute\n",
    "* turning a 3D array into a dictionary and turning a dictionary into a pandas DataFrame\n",
    "* formatting a pandas DataFrame to improve readability\n",
    "I really enjoyed this project and hope to develop it further in my free time by perhaps accounting for people's preferences of days they would like to do chores on and people's preferences for chores."
   ]
  }
 ],
 "metadata": {
  "kernelspec": {
   "display_name": "Python 3 (clean)",
   "language": "python",
   "name": "python3_clean"
  },
  "language_info": {
   "codemirror_mode": {
    "name": "ipython",
    "version": 3
   },
   "file_extension": ".py",
   "mimetype": "text/x-python",
   "name": "python",
   "nbconvert_exporter": "python",
   "pygments_lexer": "ipython3",
   "version": "3.9.5"
  }
 },
 "nbformat": 4,
 "nbformat_minor": 5
}
